{
  "cells": [
    {
      "cell_type": "code",
      "source": [
        "import numpy as np\n",
        "import matplotlib.pyplot as plt\n",
        "rng = np.random.RandomState(42)\n",
        "\n",
        "def sech(x):\n",
        "    return 2/(np.exp(x)+np.exp(-x))\n",
        "\n",
        "def tanh(x):\n",
        "    return (np.exp(2*x)-1)/(np.exp(2*x)+1)\n",
        "\n",
        "def f(x, a, h):\n",
        "    return a - h*x + np.pi/2\n",
        "\n",
        "\n",
        "def p2std(p):\n",
        "    return 10000*np.exp(-p)\n",
        "\n",
        "#p2std(9)"
      ],
      "outputs": [],
      "execution_count": null,
      "metadata": {
        "collapsed": true,
        "jupyter": {
          "source_hidden": false,
          "outputs_hidden": false
        },
        "nteract": {
          "transient": {
            "deleting": false
          }
        }
      }
    },
    {
      "cell_type": "markdown",
      "source": [
        "# Generative Process\n",
        "$$\n",
        "  \\dot{\\vec{x}}(t) = f(\\vec{x}(t), \\alpha) =\n",
        "      \\left[\\begin{array}{ccc} 0 & 1 & 0 \\\\ -\\omega^2 & 0 & 0 \\\\ \\alpha &0 &-1 \\end{array}\\right] \\cdot \\vec{x}(t) =\n",
        "      \\left[\\begin{array}{c} x_1(t) \\\\ -\\omega^2 x_0(t) \\\\ \\alpha x_0(t) - x_2(t) \\end{array}\\right] \\nonumber\n",
        "$$\n",
        "## Initial conditions\n",
        "$$\n",
        "\\vec{x}(0) = \\left[ \\begin{array}{c} x_0(0) \\\\ x_1(0) \\\\ x_2(0) \\end{array} \\right] = \\left[ \\begin{array}{c} 1 \\\\ 0 \\\\ \\frac{ \\alpha }{ \\omega^2 +1 } \\end{array} \\right]\n",
        "$$\n",
        "## Solution\n",
        "$$\n",
        "\\vec{x}(t) =\n",
        "  \\left[ \\begin{array}{c} x_0(t) \\\\ x_1(t) \\\\ x_2(t) \\end{array} \\right] =\n",
        "  \\left[ \\begin{array}{c} \\cos(\\omega t) \\\\ - \\omega \\sin(\\omega t) \\\\ \\frac{ \\alpha ( \\cos (\\omega t) + \\omega \\sin (\\omega t) ) }{ \\omega^2 + 1 } \\end{array} \\right]\n",
        "$$\n",
        "\n",
        "From $x_2$ is extracted the proprioceptive sensory input\n",
        "$$\n",
        "s_0 (t) = x_2(t) + \\mathcal{N}(s_0;0,\\Sigma_{s_0}^{GP})\n",
        "$$\n"
      ],
      "metadata": {
        "nteract": {
          "transient": {
            "deleting": false
          }
        }
      }
    },
    {
      "cell_type": "code",
      "source": [
        "class GP:                                                               # Generative Process Class\n",
        "\n",
        "    def __init__(self, dt, omega2_GP=0.5, alpha=1):\n",
        "\n",
        "        self.omega2 = omega2_GP                                         # Harmonic oscillator angular frequency (both x_0 and x_2)\n",
        "        self.a = alpha                                                  # Harmonic oscillator amplitude (no really)\n",
        "        self.x = np.array([1.,0., self.a/(self.omega2 + 1)])            # Vector x={x_0, x_1, x_2} initialized with his initial conditions\n",
        "        self.s = np.array([self.a/(self.omega2 + 1), 0.])               # Array storing respectively proprioceptive sensory input (initialized with the real\n",
        "                                                                        # value x_2) and touch sensory input\n",
        "        self.Sigma_s = 0.01                                             # Variance of the Gaussian noise that gives proprioceptive sensory input\n",
        "        self.dt = dt                                                    # Size of a simulation step\n",
        "        self.t = 0                                                      # Time variable\n",
        "        self.platform_position = 0.5                                    # Platform position (when is present) with respect to x_2 variable\n",
        "        self.platform_interval = [15, 75]                               # Time interval in which the platform appears\n",
        "\n",
        "\n",
        "    def update(self, action):                                           # Function that implement dynamics of the process.\n",
        "                                                                        # Action argument (double) is the variable that comes from the GM that modifies alpha\n",
        "                                                                        # variable affecting the amplitude of the oscillation.\n",
        "\n",
        "        self.t += dt                                                    # Increment of time variable\n",
        "        self.a += action                                        # Increment of alpha variable (that changes the amplitude) given by agent's action\n",
        "        self.x[0] += self.dt*(self.x[1])                                # GP dynamics implementation\n",
        "        self.x[1] += self.dt*(-self.omega2*self.x[0])\n",
        "        self.x[2] += self.dt*(self.a*self.x[0] - self.x[2])\n",
        "        if self.t>self.platform_interval[0] and self.t<self.platform_interval[1]:                            # Platform Action\n",
        "            if self.x[2] > self.platform_position:\n",
        "                self.s[1] = 1.\n",
        "                self.x[2] = self.platform_position\n",
        "            else:\n",
        "                self.s[1] = 0.\n",
        "        else:\n",
        "            self.s[1] = 0.\n",
        "        self.s[0] = self.x[2] + self.Sigma_s*rng.randn()\n",
        "\n",
        "    def platform_for_graph(self):\n",
        "        plat = []\n",
        "        for t in np.arange(0.,self.t,self.dt):\n",
        "            if t in self.platform_interval:\n",
        "                plat.append([t, self.platform_position])\n",
        "        return np.vstack(plat)\n",
        "\n",
        "\n"
      ],
      "outputs": [],
      "execution_count": null,
      "metadata": {
        "collapsed": true,
        "jupyter": {
          "source_hidden": false,
          "outputs_hidden": false
        },
        "nteract": {
          "transient": {
            "deleting": false
          }
        }
      }
    },
    {
      "cell_type": "markdown",
      "source": [
        " # Generative Model\n",
        " ## Agent beliefs\n",
        " $$\n",
        " \\dot{\\vec{\\mu}}(t) = f_{dyn}(\\vec{\\mu}(t), \\nu) + z_{\\vec{\\mu}}=\n",
        "       \\left[\\begin{array}{ccc} 0 & 1 & 0 \\\\ -\\omega^2 & 0 & 0 \\\\ \\nu & 0 & -1 \\end{array} \\right] \\cdot \\vec{\\mu}(t) + \\mathcal{N}(\\dot{\\vec{\\mu}}; 0, \\hat{\\Sigma}_{\\vec{\\mu}})\n",
        " $$\n",
        " with $\\hat{\\Sigma}_{\\vec{\\mu}}$ covariance matrix of the multidimensional gaussian noise. In our case it is a diagonal matrix with diagonal $\\Sigma_{\\mu_0}, \\Sigma_{\\mu_1}, \\Sigma_{\\mu_2}$\n",
        " $$\n",
        " s_p(\\vec{\\mu}(t), \\nu) =\n",
        "       \\left[\\begin{array}{c} 0 \\\\ 0 \\\\ 1 \\end{array} \\right]^T \\cdot \\vec{\\mu}(t) + \\mathcal{N}(s_p; 0, \\Sigma_{s_0})\n",
        " $$\n",
        " $$\n",
        " s_t(\\vec{\\mu}(t), \\nu) = g(\\vec{\\mu}(t),\\nu) + \\mathcal{N}(s_t; 0, \\Sigma_{s_1}) =\n",
        "       g_1 \\left( \\left[\\begin{array}{c} \\nu \\\\ 0 \\\\ -1 \\end{array} \\right]^T \\cdot \\vec{\\mu}(t) \\right) g_2 \\left( \\left[\\begin{array}{c} 0 \\\\ 0 \\\\ 1 \\end{array} \\right]^T \\cdot \\vec{\\mu}(t) \\right)\n",
        "       + \\mathcal{N}(s_t; 0, \\Sigma_{s_1})\n",
        " $$\n",
        " with\n",
        " $$\n",
        " g_1(x) = \\text{sech}(10x) = \\frac{ 2 }{ e^{10 x} + e^{-10 x} } \\\\\n",
        " g_2(x) = \\frac{ 1 }{ 2 } \\text{tanh}(10x) +\\frac{ 1 }{ 2 } = \\frac{ 1 }{ 2 } \\left( \\frac{ e^{10x}-e^{-10x} }{ e^{10x}+e^{-10x}  } + 1 \\right)\n",
        " $$\n",
        " for later is important to notice that\n",
        " $$\n",
        " \\frac{ d g_1 }{ dx } = -10 \\text{sech}(10x) \\text{tanh}(10x)\\\\\n",
        " \\frac{ d g_2 }{ dx } = 5 \\text{sech}^2(10x)\n",
        "$$\n",
        " ## Free Energy\n",
        " $$\n",
        " F \\approx\n",
        "   \\frac{1}{2} \\left[ \\frac{(\\dot{\\mu_0}-\\mu_1)^2}{\\Sigma_{\\mu_0}}\n",
        "                       + \\frac{(\\dot{\\mu_1}+ \\omega^2 \\mu_0)^2}{\\Sigma_{\\mu_1}}\n",
        "                       + \\frac{(\\dot{\\mu_2}-(\\nu \\mu_0 - \\mu_2))^2}{\\Sigma_{\\mu_2}}\n",
        "                       + \\frac{(s_0-\\mu_2)^2}{\\Sigma_{s_0}}\n",
        "                       + \\frac{(s_1-g(\\vec{\\mu}, \\nu))^2}{\\Sigma_{s_1}} \\right]\n",
        " $$\n",
        " ## Prediction errors\n",
        " $$\n",
        " \\begin{align}\n",
        " \\varepsilon_{\\mu_0} &= \\dot{\\mu_0}-\\mu_1 \\\\\n",
        " \\varepsilon_{\\mu_1} &= \\dot{\\mu_1}+ \\omega^2 \\mu_0 \\\\\n",
        " \\varepsilon_{\\mu_2} &= \\dot{\\mu_2}-(\\nu \\mu_0 - \\mu_2) \\\\\n",
        " \\varepsilon_{s_0} &= s_0-\\mu_2 \\\\\n",
        " \\varepsilon_{s_1} &= s_1-g(\\vec{\\mu}, \\nu)\n",
        " \\end{align}\n",
        " $$\n",
        " ## Gradients\n",
        " $$\n",
        " \\begin{align}\n",
        " \\frac{ \\partial F }{ \\partial \\mu_0 } &= \\omega^2 \\frac{ \\varepsilon_{\\mu_1} }{ \\Sigma_{\\mu_1} } - \\nu \\frac{ \\varepsilon_{\\mu_2} }{ \\Sigma_{\\mu_2} } - \\frac{ \\partial g(\\vec{\\mu}, \\nu) }{ \\partial \\mu_0 } \\frac{ \\varepsilon_{s_1} }{ \\Sigma_{s_1} }\\\\\n",
        " \\frac{ \\partial F }{ \\partial \\mu_1 } &= -\\frac{ \\varepsilon_{\\mu_0} }{ \\Sigma_{\\mu_0} } \\\\\n",
        " \\frac{ \\partial F }{ \\partial \\mu_2 } &= \\frac{ \\varepsilon_{\\mu_2} }{ \\Sigma_{\\mu_2} } - \\frac{ \\varepsilon_{s_0} }{ \\Sigma_{s_0} } - \\frac{ \\partial g(\\vec{\\mu}, \\nu) }{ \\partial \\mu_2 } \\frac{ \\varepsilon_{s_1} }{ \\Sigma_{s_1} }\\\\\n",
        " \\frac{ \\partial F }{ \\partial \\dot{\\mu}_0 } &= \\frac{ \\varepsilon_{\\mu_0} }{ \\Sigma_{\\mu_0} }\\\\\n",
        " \\frac{ \\partial F }{ \\partial \\dot{\\mu}_1 } &= \\frac{ \\varepsilon_{\\mu_1} }{ \\Sigma_{\\mu_1} }\\\\\n",
        " \\frac{ \\partial F }{ \\partial \\dot{\\mu}_2 } &= \\frac{ \\varepsilon_{\\mu_2} }{ \\Sigma_{\\mu_2} }\n",
        " \\end{align}\n",
        " $$\n",
        " ## Internal variables dynamics\n",
        " $$\n",
        " \\left[ \\begin{matrix} \\mu_0(t+dt) \\\\ \\mu_1(t+dt) \\\\ \\mu_2(t+dt) \\end{matrix} \\right] =\n",
        "\t\\left[ \\begin{matrix} \\mu_0(t) + dt \\, (\\dot{\\mu}_0(t) - \\eta \\frac{ \\partial F }{ \\partial \\mu_0 }) \\\\\n",
        "\t\t\t\t\t\t  \\mu_1(t) + dt \\, (\\dot{\\mu}_1(t) - \\eta \\frac{ \\partial F }{ \\partial \\mu_1 }) \\\\\n",
        "\t\t\t\t\t\t  \\mu_2(t) + dt \\, (\\dot{\\mu}_2(t) - \\eta \\frac{ \\partial F }{ \\partial \\mu_2 })\n",
        "\t\\end{matrix} \\right]\n",
        " $$\n",
        " $$\n",
        " \\left[ \\begin{matrix} \\dot{\\mu}_0(t+dt) \\\\ \\dot{\\mu}_1(t+dt) \\\\ \\dot{\\mu}_2(t+dt) \\end{matrix} \\right] =\n",
        "\t\\left[ \\begin{matrix} \\dot{\\mu}_0(t) - dt \\, \\eta_d \\frac{ \\partial F }{ \\partial \\dot{\\mu}_0 } \\\\\n",
        "\t\t\t\t\t\t  \\dot{\\mu}_1(t) - dt \\, \\eta_d \\frac{ \\partial F }{ \\partial \\dot{\\mu}_1 } \\\\\n",
        "\t\t\t\t\t\t  \\dot{\\mu}_2(t) - dt \\, \\eta_d \\frac{ \\partial F }{ \\partial \\dot{\\mu}_2 }\n",
        "\t\\end{matrix} \\right]\n",
        " $$\n",
        " with $\\eta$ and $\\eta_d$ gradient descent parameters respectively of $\\vec{\\mu}$ and $\\dot{\\vec{\\mu}}$\n",
        " ## Action\n",
        " the agent modifies a certain variable of the GP (in our case the alpha parameter) by a quantity given by\n",
        " $$\n",
        " a = dt \\eta_a \\left( \\frac{ \\partial F }{ \\partial s_0 }\\frac{ \\partial s_0 }{ \\partial \\alpha  } + \\frac{ \\partial F }{ \\partial s_1 }\\frac{ \\partial s_1 }{ \\partial \\alpha  } \\right)\n",
        "       = dt \\eta_a \\left( \\frac{ \\varepsilon_{s_0} }{ \\Sigma_{s_0} }\\frac{ \\partial s_0 }{ \\partial \\alpha  } + \\frac{ \\varepsilon_{s_1} }{ \\Sigma_{s_1} }\\frac{ \\partial s_1 }{ \\partial \\alpha  } \\right)\n",
        " $$\n",
        " with\n",
        " $$\n",
        " \\begin{align}\n",
        " \\frac{ \\partial s_0 }{ \\partial \\alpha } &= \\frac{ \\cos (\\omega t) + \\omega \\sin (\\omega t) }{ \\omega^2 + 1 } = \\frac{ x_0 - x_1}{ \\omega^2 + 1 }  \\approx ? \\frac{ \\mu_0 - \\mu_1 }{ \\omega^2 + 1 }\\\\\n",
        " \\frac{ \\partial s_1 }{ \\partial \\alpha } &= ? = -10 \\, x_0 \\, \\text{sech}\\left(10 (\\alpha x_0 - x_2)\\right) \\, \\text{tanh}\\left(10 (\\alpha x_0 - x_2)\\right) \\, \\left( \\frac{ 1 }{ 2 }\\text{tanh}(10 x_2) + \\frac{ 1 }{ 2 } \\right) \\approx ? -10 \\, \\mu_0 \\, \\text{sech}\\left(10 (\\alpha \\mu_0 - \\mu_2)\\right) \\, \\text{tanh}\\left(10 (\\alpha \\mu_0 - \\mu_2)\\right) \\, \\left( \\frac{ 1 }{ 2 }\\text{tanh}(10 \\mu_2) + \\frac{ 1 }{ 2 } \\right)\n",
        " \\end{align}\n",
        " $$\n",
        " ## Learning of the $\\nu$ parameter\n",
        " $$\n",
        " \\nu(t+dt) = \\nu (t) - dt \\eta_{\\nu} \\frac{ \\partial F }{ \\partial \\nu }\n",
        " $$\n",
        " with\n",
        " $$\n",
        " \\frac{ \\partial F }{ \\partial \\nu } = - \\mu_0 \\frac{ \\varepsilon_{\\mu_2} }{ \\Sigma_{\\mu_2} } - \\frac{ \\varepsilon_{s_1} }{ \\Sigma_{s_1} }\\frac{ \\partial g(\\vec{\\mu}, \\nu) }{ \\partial \\nu  } =\n",
        "   - \\mu_0 \\frac{ \\varepsilon_{\\mu_2} }{ \\Sigma_{\\mu_2} } - \\frac{ \\varepsilon_{s_1} }{ \\Sigma_{s_1} } \\left[ -10 \\, \\mu_0 \\, \\text{sech}\\left(10 (\\nu \\mu_0 - \\mu_2)\\right) \\, \\text{tanh}\\left(10 (\\nu \\mu_0 - \\mu_2)\\right) \\, \\left( \\frac{ 1 }{ 2 }\\text{tanh}(10 \\mu_2) + \\frac{ 1 }{ 2 } \\right) \\right]\n",
        " $$"
      ],
      "metadata": {
        "nteract": {
          "transient": {
            "deleting": false
          }
        }
      }
    },
    {
      "cell_type": "code",
      "source": [
        "class GM:\n",
        "\n",
        "    def __init__(self, dt=0.005, eta=0.1, eta_d=0.1, eta_a=1, eta_nu=1, omega2_GM=0.5, nu=1):\n",
        "\n",
        "        self.omega2 = omega2_GM                                         # Harmonic oscillator angular frequency\n",
        "        self.nu = nu                                                    # Harmonic oscillator amplitude (no really)\n",
        "        self.mu = np.array([1.,0., 0.8])#self.nu/(self.omega2+1)])      # Vector \\vec{\\mu}={\\mu_0, \\mu_1, \\mu_2} initialized with the GP initial conditions\n",
        "        self.dmu = np.array([0.,-self.omega2, (self.nu*self.mu[0]-self.mu[2])])\n",
        "                                                                        # Vector \\dot{\\vec{\\mu}}={\\dot{\\mu_0}, \\dot{\\mu_1}, \\dot{\\mu_2}} inizialized with the right ones\n",
        "        self.Sigma_s = np.array([0.01,0.01])                            # Variances (inverse of precisions) of sensory input (the first one proprioceptive and the second one touch)\n",
        "        self.Sigma_mu = np.array([0.01,0.01,0.01])                      # Internal variables precisions\n",
        "        self.da = 0                                                     # Action variable\n",
        "        self.dt = dt                                                    # Size of a simulation step\n",
        "        self.eta = np.array([eta, eta_d, eta_a, eta_nu])                # Gradient descent weights\n",
        "\n",
        "    def g_touch(self, x, v, prec=10):                                   # Touch function\n",
        "        return sech(prec*v)*(0.5*tanh(prec*x)+0.5)\n",
        "\n",
        "    def dg_dmu0(self, x, v, dv_dmu0, prec=10):                          # Derivative of the touch function with respect to \\mu_0\n",
        "        return -prec*dv_dmu0*sech(prec*v)*tanh(prec*v)*(0.5 * tanh(prec*x) + 0.5)\n",
        "\n",
        "    def dg_dmu2(self, x, v, prec=10, dx_dmu2=1, dv_dmu2=-1):            # Derivative of the touch function with respect to \\mu_2\n",
        "        return -prec*dv_dmu2*sech(prec*v)*tanh(prec*v)*(0.5 * tanh(prec*x) + 0.5) + sech(prec*v)*5*dx_dmu2*(sech(prec*x))**2\n",
        "\n",
        "    def update(self, sensory_states):                                   # Function that implement the update of internal variables.\n",
        "                                                                        # sensory_states argument (two dimensional array) come from GP and store proprioceptive\n",
        "                                                                        # and somatosensory perception\n",
        "                                                                        # Returns action increment\n",
        "\n",
        "        self.s = sensory_states\n",
        "        s = self.s\n",
        "        S_mu, S_s = (self.Sigma_mu, self.Sigma_s)\n",
        "        mu = self.mu\n",
        "        dmu = self.dmu\n",
        "        nu = self.nu\n",
        "        om2 = self.omega2\n",
        "        eta, eta_d, eta_a, eta_nu = (self.eta[0], self.eta[1], self.eta[2], self.eta[3])\n",
        "        self.PE_mu = np.array([\n",
        "            dmu[0]-mu[1],\n",
        "            dmu[1]+om2*mu[0],\n",
        "            dmu[2]-(nu*mu[0]-mu[2])\n",
        "            ])\n",
        "        self.PE_s = np.array([\n",
        "            s[0]-mu[2],\n",
        "            s[1]-self.g_touch(x=mu[2], v=(nu*mu[0]-mu[2]))          #v=dmu[2]?\n",
        "        ])\n",
        "\n",
        "        self.dF_dmu = np.array([\n",
        "            om2*self.PE_mu[1]/S_mu[1] - nu*self.PE_mu[2]/S_mu[2] - self.dg_dmu0(x=mu[2],v=(nu*mu[0]-mu[2]), dv_dmu0=nu)*self.PE_s[1]/S_s[1],\n",
        "            -self.PE_mu[0]/S_mu[0],\n",
        "            self.PE_mu[2]/S_mu[2] - self.PE_s[0]/S_s[0] - self.dg_dmu2(x=mu[2], v=(nu*mu[0]-mu[2]))*self.PE_s[1]/S_s[1]\n",
        "            ])\n",
        "\n",
        "        self.dF_d_dmu = np.array([\n",
        "            self.PE_mu[0]/S_mu[0],\n",
        "            self.PE_mu[1]/S_mu[1],\n",
        "            self.PE_mu[2]/S_mu[2]\n",
        "            ])\n",
        "\n",
        "        # Internal variables update\n",
        "        self.mu += self.dt*(self.dmu - eta*self.dF_dmu)\n",
        "        self.dmu += -self.dt*eta_d*self.dF_d_dmu\n",
        "\n",
        "        # Action update\n",
        "        dF_da = (self.mu[0]-self.mu[1])/(om2+1)*self.PE_s[0]/S_s[0] + ( self.dg_dmu0(x=self.mu[2], v=(self.nu*self.mu[0]-self.mu[2]), dv_dmu0=self.mu[0]) ) * self.PE_s[1]/S_s[1]\n",
        "        #self.da = -self.dt*eta_a*dF_da\n",
        "        #dF_da = (self.mu[0])*self.PE_s[0]/S_s[0] + ( self.mu[0] ) * self.PE_s[1]/S_s[1]\n",
        "        #self.da = self.dt*eta_a*dF_da\n",
        "\n",
        "        # Learning internal parameter nu\n",
        "        dF_dnu = -self.mu[0]*self.PE_mu[2]/S_mu[2] - ( self.dg_dmu0(x=self.mu[2], v=(self.nu*self.mu[0]-self.mu[2]), dv_dmu0=self.mu[0]) ) * self.PE_s[1]/S_s[1]\n",
        "        #self.nu += -self.dt*eta_nu*dF_dnu\n",
        "\n",
        "        # Efference copy\n",
        "        #self.nu += self.da\n",
        "\n",
        "        return self.da\n"
      ],
      "outputs": [],
      "execution_count": null,
      "metadata": {
        "collapsed": true,
        "jupyter": {
          "source_hidden": false,
          "outputs_hidden": false
        },
        "nteract": {
          "transient": {
            "deleting": false
          }
        }
      }
    },
    {
      "cell_type": "code",
      "source": [
        "gm=GM()\n",
        "omega = np.sqrt(gm.omega2)\n",
        "nu = 2#gm.nu\n",
        "time = np.arange(0, 30, 0.001 )\n",
        "x0 = np.cos(omega*time)\n",
        "x1 = -omega*np.sin(omega*time)\n",
        "x2 = nu*(np.cos(omega*time)+omega*np.sin(omega*time))/(omega**2+1)\n",
        "dx2 = nu*(-np.sin(omega*time)+omega**2*np.cos(omega*time))/(omega**2+1)\n",
        "touch = gm.g_touch(x=x2, v=dx2)\n",
        "dtouch_dx0 = gm.dg_dmu0(x=x2, v=dx2, dv_dmu0=nu)\n",
        "dtouch_dx2 = gm.dg_dmu2(x=x2, v=dx2, dv_dmu2=-1)\n",
        "\n",
        "plt.plot(figsize=(10,6))\n",
        "plt.subplot(211)\n",
        "plt.plot(time, x0, label=r\"$x_0$\", c='#1f77b4')\n",
        "plt.plot(time, x2, label=r\"$x_2$\", c='#ff7f0e')\n",
        "plt.legend(bbox_to_anchor=(1.05, 1), loc='upper left', borderaxespad=0.)\n",
        "plt.subplot(212)\n",
        "plt.plot(time, x1, label=r\"$x_1$\", c='#2ca02c')\n",
        "plt.plot(time, dx2, label=r\"$\\frac{dx_2}{dt}$\", c='#d62728')\n",
        "plt.legend(bbox_to_anchor=(1.05, 1), loc='upper left', borderaxespad=0.)\n",
        "plt.show()"
      ],
      "outputs": [],
      "execution_count": null,
      "metadata": {
        "collapsed": true,
        "jupyter": {
          "source_hidden": false,
          "outputs_hidden": false
        },
        "nteract": {
          "transient": {
            "deleting": false
          }
        }
      }
    },
    {
      "cell_type": "code",
      "source": [
        "plt.subplot(311)\n",
        "plt.plot(time, x2, label=r\"$x_2$\", c='#ff7f0e')\n",
        "plt.plot(time, touch, label=r\"touch function $g$\", c='#9467bd')\n",
        "plt.legend(bbox_to_anchor=(1.05, 1), loc='upper left', borderaxespad=0.)\n",
        "plt.subplot(312)\n",
        "plt.plot(time, x0, label=r\"$x_0$\", c='#1f77b4')\n",
        "plt.plot(time, dtouch_dx0, label=r\"$\\frac{dg}{dx_0}$\", c='#8c564b')\n",
        "#plt.plot(time, dtouch_dx2, label=r\"$\\frac{dg}{dx_2}$\", c='#7f7f7f')\n",
        "plt.legend(bbox_to_anchor=(1.05, 1), loc='upper left', borderaxespad=0.)\n",
        "plt.subplot(313)\n",
        "plt.plot(time, x2, label=r\"$x_2$\", c='#ff7f0e')\n",
        "plt.plot(time, dtouch_dx2, label=r\"$\\frac{dg}{dx_2}$\", c='#7f7f7f')\n",
        "plt.legend(bbox_to_anchor=(1.05, 1), loc='upper left', borderaxespad=0.)\n",
        "plt.show()\n",
        "\n"
      ],
      "outputs": [],
      "execution_count": null,
      "metadata": {
        "collapsed": true,
        "jupyter": {
          "source_hidden": false,
          "outputs_hidden": false
        },
        "nteract": {
          "transient": {
            "deleting": false
          }
        }
      }
    },
    {
      "cell_type": "code",
      "source": [
        "\n",
        "if __name__ == \"__main__\":\n",
        "    dt = 0.0005\n",
        "    n_steps = 20000\n",
        "    gp = GP(dt=dt, omega2_GP=0.5, alpha=1)\n",
        "    gm = GM(dt=0.005, eta=0.001, eta_d=1, eta_a=0.001, eta_nu=0.001, omega2_GM=0.5, nu=1)\n"
      ],
      "outputs": [],
      "execution_count": null,
      "metadata": {
        "collapsed": true,
        "jupyter": {
          "source_hidden": false,
          "outputs_hidden": false
        },
        "nteract": {
          "transient": {
            "deleting": false
          }
        }
      }
    },
    {
      "cell_type": "code",
      "source": [
        "    data_GP = []\n",
        "    data_GM = []\n",
        "    a = 0.\n",
        "    for step in np.arange(n_steps):\n",
        "        gp.update(0)\n",
        "        a=gm.update(gp.s)\n",
        "        data_GP.append([gp.x[2], gp.a, gp.s[0], gp.s[1] ])\n",
        "        data_GM.append([ gm.mu[2], gm.nu, gm.PE_mu[0], gm.PE_mu[1], gm.PE_mu[2], gm.PE_s[0], gm.PE_s[1], gm.dmu[2] ])\n",
        "    data_GP = np.vstack(data_GP)\n",
        "    data_GM = np.vstack(data_GM)\n",
        "    #platform = gp.platform_for_graph()"
      ],
      "outputs": [],
      "execution_count": null,
      "metadata": {
        "collapsed": true,
        "jupyter": {
          "source_hidden": false,
          "outputs_hidden": false
        },
        "nteract": {
          "transient": {
            "deleting": false
          }
        }
      }
    },
    {
      "cell_type": "code",
      "source": [
        "plt.figure(figsize=(10, 6))\n",
        "plt.subplot(211)\n",
        "plt.plot(np.arange(0,n_steps*dt,dt), data_GP[:, 0], c=\"red\", lw=1, ls=\"dashed\", label=r\"$x_2$\")\n",
        "plt.plot(np.arange(0,n_steps*dt,dt), data_GP[:, 1], c=\"#aa6666\", lw=3, label=r\"\\alpha\")\n",
        "#plt.plot(platform[:,0], platform[:,1], c=\"black\", lw=0.5, label=\"platform\")\n",
        "plt.ylim(bottom=0)\n",
        "plt.legend(bbox_to_anchor=(1.05, 1), loc='upper left', borderaxespad=0.)\n",
        "plt.subplot(212)\n",
        "plt.plot(np.arange(0,n_steps*dt,dt), data_GP[:,2], label=\"Proprioceptive sensory input\")\n",
        "plt.plot(np.arange(0,n_steps*dt,dt), data_GP[:,3], label=\"Touch sensory input\")\n",
        "#plt.plot(platform[:,0], platform[:,1], c=\"black\", lw=0.5, label=\"platform\")\n",
        "#plt.ylim(bottom=0)\n",
        "plt.legend(bbox_to_anchor=(1.05, 1), loc='upper left', borderaxespad=0.)\n",
        "plt.show()\n"
      ],
      "outputs": [],
      "execution_count": null,
      "metadata": {
        "collapsed": true,
        "jupyter": {
          "source_hidden": false,
          "outputs_hidden": false
        },
        "nteract": {
          "transient": {
            "deleting": false
          }
        }
      }
    },
    {
      "cell_type": "code",
      "source": [
        "plt.figure(figsize=(20, 12))\n",
        "plt.subplot(311)\n",
        "plt.plot(np.arange(0,n_steps*dt,dt), data_GM[:, 2], label=r\"$PE_{\\mu 0}$\")\n",
        "plt.legend(bbox_to_anchor=(1.05, 1), loc='upper left', borderaxespad=0.)\n",
        "plt.subplot(312)\n",
        "plt.plot(np.arange(0,n_steps*dt,dt), data_GM[:, 3], label=r\"$PE_{\\mu 1}$\")\n",
        "plt.legend(bbox_to_anchor=(1.05, 1), loc='upper left', borderaxespad=0.)\n",
        "plt.subplot(313)\n",
        "plt.plot(np.arange(0,n_steps*dt,dt), data_GM[:, 4], label=r\"$PE_{\\mu 2}$\")\n",
        "plt.legend(bbox_to_anchor=(1.05, 1), loc='upper left', borderaxespad=0.)\n",
        "plt.show()"
      ],
      "outputs": [],
      "execution_count": null,
      "metadata": {
        "collapsed": true,
        "jupyter": {
          "source_hidden": false,
          "outputs_hidden": false
        },
        "nteract": {
          "transient": {
            "deleting": false
          }
        }
      }
    },
    {
      "cell_type": "code",
      "source": [
        "plt.figure(figsize=(20, 12))\n",
        "plt.subplot(211)\n",
        "plt.plot(np.arange(0,n_steps*dt,dt), data_GM[:, 5], label=r\"$PE_{s 0}$\")\n",
        "plt.legend(bbox_to_anchor=(1.05, 1), loc='upper left', borderaxespad=0.)\n",
        "plt.subplot(212)\n",
        "plt.plot(np.arange(0,n_steps*dt,dt), data_GM[:, 6], label=r\"$PE_{s 1}$\")\n",
        "plt.legend(bbox_to_anchor=(1.05, 1), loc='upper left', borderaxespad=0.)\n",
        "plt.show()\n"
      ],
      "outputs": [],
      "execution_count": null,
      "metadata": {
        "collapsed": true,
        "jupyter": {
          "source_hidden": false,
          "outputs_hidden": false
        },
        "nteract": {
          "transient": {
            "deleting": false
          }
        }
      }
    },
    {
      "cell_type": "code",
      "source": [
        "plt.figure(figsize=(22, 8))\n",
        "plt.subplot(211)\n",
        "plt.plot(np.arange(0,n_steps*dt,dt), data_GP[:, 0], c=\"red\", lw=1, ls=\"dashed\", label=r\"$x_2$\")\n",
        "plt.plot(np.arange(0,n_steps*dt,dt), data_GP[:, 1], c=\"#aa6666\", lw=3, label=r\"\\alpha\")\n",
        "#plt.plot(platform[:,0], platform[:,1], c=\"black\", lw=0.5, label=\"platform\")\n",
        "#plt.ylim(bottom=0)\n",
        "plt.legend(bbox_to_anchor=(1.05, 1), loc='upper left', borderaxespad=0.)\n",
        "plt.subplot(212)\n",
        "plt.plot(np.arange(0,n_steps*dt,dt), data_GM[:, 2], c=\"green\", lw=1, ls=\"dashed\", label=r\"$\\mu_2$\")\n",
        "#plt.plot(np.arange(0,n_steps*dt,dt), data_GM[:, 7], lw=1, ls=\"dashed\", label=r\"$\\dot{\\mu}_2$\")\n",
        "plt.plot(np.arange(0,n_steps*dt,dt), data_GM[:, 1], c=\"#66aa66\", lw=3, label=r\"\\nu\")\n",
        "#plt.plot(platform[:,0], platform[:,1], c=\"black\", lw=0.5, label=\"platform\")\n",
        "plt.legend(bbox_to_anchor=(1.05, 1), loc='upper left', borderaxespad=0.)\n",
        "plt.show()"
      ],
      "outputs": [],
      "execution_count": null,
      "metadata": {
        "collapsed": true,
        "jupyter": {
          "source_hidden": false,
          "outputs_hidden": false
        },
        "nteract": {
          "transient": {
            "deleting": false
          }
        }
      }
    }
  ],
  "metadata": {
    "kernelspec": {
      "argv": [
        "/home/tone/Università/Dottorato/Active Inference/vevn3/bin/python",
        "-m",
        "ipykernel_launcher",
        "-f",
        "{connection_file}"
      ],
      "display_name": "venv3",
      "language": "python",
      "name": "venv3"
    }
  },
  "nbformat": 4,
  "nbformat_minor": 0
}
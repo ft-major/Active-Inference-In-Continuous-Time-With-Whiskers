{
 "cells": [
  {
   "cell_type": "code",
   "execution_count": 2,
   "metadata": {
    "jupyter": {
     "outputs_hidden": false,
     "source_hidden": false
    },
    "nteract": {
     "transient": {
      "deleting": false
     }
    }
   },
   "outputs": [
    {
     "ename": "ModuleNotFoundError",
     "evalue": "No module named 'numpy'",
     "output_type": "error",
     "traceback": [
      "\u001b[0;31m---------------------------------------------------------------------------\u001b[0m",
      "\u001b[0;31mModuleNotFoundError\u001b[0m                       Traceback (most recent call last)",
      "\u001b[0;32m<ipython-input-2-d79ab2808bb7>\u001b[0m in \u001b[0;36m<module>\u001b[0;34m\u001b[0m\n\u001b[0;32m----> 1\u001b[0;31m \u001b[0;32mimport\u001b[0m \u001b[0mnumpy\u001b[0m \u001b[0;32mas\u001b[0m \u001b[0mnp\u001b[0m\u001b[0;34m\u001b[0m\u001b[0;34m\u001b[0m\u001b[0m\n\u001b[0m\u001b[1;32m      2\u001b[0m \u001b[0;32mimport\u001b[0m \u001b[0mmatplotlib\u001b[0m\u001b[0;34m.\u001b[0m\u001b[0mpyplot\u001b[0m \u001b[0;32mas\u001b[0m \u001b[0mplt\u001b[0m\u001b[0;34m\u001b[0m\u001b[0;34m\u001b[0m\u001b[0m\n\u001b[1;32m      3\u001b[0m \u001b[0mrng\u001b[0m \u001b[0;34m=\u001b[0m \u001b[0mnp\u001b[0m\u001b[0;34m.\u001b[0m\u001b[0mrandom\u001b[0m\u001b[0;34m.\u001b[0m\u001b[0mRandomState\u001b[0m\u001b[0;34m(\u001b[0m\u001b[0;36m42\u001b[0m\u001b[0;34m)\u001b[0m\u001b[0;34m\u001b[0m\u001b[0;34m\u001b[0m\u001b[0m\n\u001b[1;32m      4\u001b[0m \u001b[0;34m\u001b[0m\u001b[0m\n\u001b[1;32m      5\u001b[0m \u001b[0;32mdef\u001b[0m \u001b[0msech\u001b[0m\u001b[0;34m(\u001b[0m\u001b[0mx\u001b[0m\u001b[0;34m)\u001b[0m\u001b[0;34m:\u001b[0m\u001b[0;34m\u001b[0m\u001b[0;34m\u001b[0m\u001b[0m\n",
      "\u001b[0;31mModuleNotFoundError\u001b[0m: No module named 'numpy'"
     ]
    }
   ],
   "source": [
    "import numpy as np\n",
    "import matplotlib.pyplot as plt\n",
    "rng = np.random.RandomState(42)\n",
    "\n",
    "def sech(x):\n",
    "    return 1/np.cosh(x)\n",
    "\n",
    "\n",
    "def tanh(x):\n",
    "    return np.tanh(x)\n"
   ]
  },
  {
   "cell_type": "markdown",
   "metadata": {
    "nteract": {
     "transient": {
      "deleting": false
     }
    }
   },
   "source": [
    "# Generative Process\n",
    "$$\n",
    "  \\dot{\\vec{x}}(t) = f(\\vec{x}(t), \\alpha) =\n",
    "      \\left[\\begin{array}{ccc} 0 & 1 & 0 \\\\ -\\omega^2 & 0 & 0 \\\\ \\alpha &0 &-1 \\end{array}\\right] \\cdot \\vec{x}(t) =\n",
    "      \\left[\\begin{array}{c} x_1(t) \\\\ -\\omega^2 x_0(t) \\\\ \\alpha x_0(t) - x_2(t) \\end{array}\\right] \\nonumber\n",
    "$$\n",
    "## Initial conditions\n",
    "$$\n",
    "\\vec{x}(0) = \\left[ \\begin{array}{c} x_0(0) \\\\ x_1(0) \\\\ x_2(0) \\end{array} \\right] = \\left[ \\begin{array}{c} 1 \\\\ 0 \\\\ \\frac{ \\alpha }{ \\omega^2 +1 } \\end{array} \\right]\n",
    "$$\n",
    "## Solution\n",
    "$$\n",
    "\\vec{x}(t) =\n",
    "  \\left[ \\begin{array}{c} x_0(t) \\\\ x_1(t) \\\\ x_2(t) \\end{array} \\right] =\n",
    "  \\left[ \\begin{array}{c} \\cos(\\omega t) \\\\ - \\omega \\sin(\\omega t) \\\\ \\frac{ \\alpha ( \\cos (\\omega t) + \\omega \\sin (\\omega t) ) }{ \\omega^2 + 1 } \\end{array} \\right]\n",
    "$$\n",
    "\n",
    "From $x_2$ is extracted the proprioceptive sensory input\n",
    "$$\n",
    "s_0 (t) = x_2(t) + \\mathcal{N}(s_0;0,\\Sigma_{s_0}^{GP})\n",
    "$$\n"
   ]
  },
  {
   "cell_type": "code",
   "execution_count": null,
   "metadata": {
    "jupyter": {
     "outputs_hidden": false,
     "source_hidden": false
    },
    "nteract": {
     "transient": {
      "deleting": false
     }
    }
   },
   "outputs": [],
   "source": [
    "\n",
    "# Generative Process Class\n",
    "class GP:\n",
    "\n",
    "    def __init__(self, dt, omega2_GP=0.5, alpha=1):\n",
    "\n",
    "        # Harmonic oscillator angular frequency (both x_0 and x_2)\n",
    "        self.omega2 = omega2_GP\n",
    "        # Harmonic oscillator amplitude (no really)\n",
    "        self.a = alpha\n",
    "        # Vector x={x_0, x_1, x_2} initialized with his initial conditions\n",
    "        self.x = np.array([1., 0.,1/1.5])\n",
    "        # Array storing respectively proprioceptive sensory input (initialized with the real value x_2) and touch sensory input\n",
    "        self.s = np.array([self.a/(self.omega2 + 1), 0.])\n",
    "        # Variance of the Gaussian noise that gives proprioceptive sensory input\n",
    "        self.Sigma_s = 0.01\n",
    "        # Size of a simulation step\n",
    "        self.dt = dt\n",
    "        # Time variable\n",
    "        self.t = 0\n",
    "        # Platform position (when is present) with respect to x_2 variable\n",
    "        self.platform_position = 0.5\n",
    "        # Time interval in which the platform appears\n",
    "        self.platform_interval = [15, 75]\n",
    "\n",
    "    # Function that implement dynamics of the process.\n",
    "    def update(self, action):\n",
    "        # Action argument (double) is the variable that comes from the GM that modifies alpha\n",
    "        # variable affecting the amplitude of the oscillation.\n",
    "\n",
    "        # Increment of time variable\n",
    "        self.t += dt\n",
    "        # Increment of alpha variable (that changes the amplitude) given by agent's action\n",
    "        self.a += action\n",
    "        # GP dynamics implementation\n",
    "        self.x[0] += self.dt*(self.x[1])\n",
    "        self.x[1] += self.dt*(-self.omega2*self.x[0])\n",
    "        self.x[2] += self.dt*(self.a*self.x[0] - self.x[2])\n",
    "        # Platform Action\n",
    "        if self.t > self.platform_interval[0] and self.t < self.platform_interval[1]:\n",
    "            if self.x[2] > self.platform_position:\n",
    "                self.s[1] = 1.\n",
    "                self.x[2] = self.platform_position\n",
    "            else:\n",
    "                self.s[1] = 0.\n",
    "        else:\n",
    "            self.s[1] = 0.\n",
    "        self.s[0] = self.x[2] + self.Sigma_s*rng.randn()\n",
    "\n",
    "    def platform_for_graph(self):\n",
    "        plat = []\n",
    "        for t in np.arange(0., self.t, self.dt):\n",
    "            if t in self.platform_interval:\n",
    "                plat.append([t, self.platform_position])\n",
    "        return np.vstack(plat)\n",
    "\n"
   ]
  },
  {
   "cell_type": "markdown",
   "metadata": {
    "nteract": {
     "transient": {
      "deleting": false
     }
    }
   },
   "source": [
    "# Generative Model\n",
    "## Agent beliefs\n",
    "$$\n",
    "\\dot{\\vec{\\mu}}(t) = f_{dyn}(\\vec{\\mu}(t), \\nu) + z_{\\vec{\\mu}}=\n",
    "      \\left[\\begin{array}{ccc} 0 & 1 & 0 \\\\ -\\omega^2 & 0 & 0 \\\\ \\nu & 0 & -1 \\end{array} \\right] \\cdot \\vec{\\mu}(t) + \\mathcal{N}(\\dot{\\vec{\\mu}}; 0, \\hat{\\Sigma}_{\\vec{\\mu}})\n",
    "$$\n",
    "with $\\hat{\\Sigma}_{\\vec{\\mu}}$ covariance matrix of the multidimensional gaussian noise. In our case it is a diagonal matrix with diagonal $\\Sigma_{\\mu_0}, \\Sigma_{\\mu_1}, \\Sigma_{\\mu_2}$\n",
    "$$\n",
    "s_p(\\vec{\\mu}(t), \\nu) =\n",
    "      \\left[\\begin{array}{c} 0 \\\\ 0 \\\\ 1 \\end{array} \\right]^T \\cdot \\vec{\\mu}(t) + \\mathcal{N}(s_p; 0, \\Sigma_{s_0})\n",
    "$$\n",
    "$$\n",
    "s_t(\\vec{\\mu}(t), \\nu) = g(\\vec{\\mu}(t),\\nu) + \\mathcal{N}(s_t; 0, \\Sigma_{s_1}) =\n",
    "      g_1 \\left( \\left[\\begin{array}{c} \\nu \\\\ 0 \\\\ -1 \\end{array} \\right]^T \\cdot \\vec{\\mu}(t) \\right) g_2 \\left( \\left[\\begin{array}{c} 0 \\\\ 0 \\\\ 1 \\end{array} \\right]^T \\cdot \\vec{\\mu}(t) \\right)\n",
    "      + \\mathcal{N}(s_t; 0, \\Sigma_{s_1})\n",
    "$$\n",
    "with\n",
    "$$\n",
    "g_1(x) = \\text{sech}(10x) = \\frac{ 2 }{ e^{10 x} + e^{-10 x} } \\\\\n",
    "g_2(x) = \\frac{ 1 }{ 2 } \\text{tanh}(10x) +\\frac{ 1 }{ 2 } = \\frac{ 1 }{ 2 } \\left( \\frac{ e^{10x}-e^{-10x} }{ e^{10x}+e^{-10x}  } + 1 \\right)\n",
    "$$\n",
    "for later is important to notice that\n",
    "$$\n",
    "\\frac{ d g_1 }{ dx } = -10 \\text{sech}(10x) \\text{tanh}(10x)\\\\\n",
    "\\frac{ d g_2 }{ dx } = 5 \\text{sech}^2(10x)\n",
    "$$\n",
    "## Free Energy\n",
    "$$\n",
    "F \\approx\n",
    "  \\frac{1}{2} \\left[ \\frac{(\\dot{\\mu_0}-\\mu_1)^2}{\\Sigma_{\\mu_0}}\n",
    "                      + \\frac{(\\dot{\\mu_1}+ \\omega^2 \\mu_0)^2}{\\Sigma_{\\mu_1}}\n",
    "                      + \\frac{(\\dot{\\mu_2}-(\\nu \\mu_0 - \\mu_2))^2}{\\Sigma_{\\mu_2}}\n",
    "                      + \\frac{(s_0-\\mu_2)^2}{\\Sigma_{s_0}}\n",
    "                      + \\frac{(s_1-g(\\vec{\\mu}, \\nu))^2}{\\Sigma_{s_1}} \\right]\n",
    "$$\n",
    "## Prediction errors\n",
    "$$\n",
    "\\begin{align}\n",
    "\\varepsilon_{\\mu_0} &= \\dot{\\mu_0}-\\mu_1 \\\\\n",
    "\\varepsilon_{\\mu_1} &= \\dot{\\mu_1}+ \\omega^2 \\mu_0 \\\\\n",
    "\\varepsilon_{\\mu_2} &= \\dot{\\mu_2}-(\\nu \\mu_0 - \\mu_2) \\\\\n",
    "\\varepsilon_{s_0} &= s_0-\\mu_2 \\\\\n",
    "\\varepsilon_{s_1} &= s_1-g(\\vec{\\mu}, \\nu)\n",
    "\\end{align}\n",
    "$$\n",
    "## Gradients\n",
    "$$\n",
    "\\begin{align}\n",
    "\\frac{ \\partial F }{ \\partial \\mu_0 } &= \\omega^2 \\frac{ \\varepsilon_{\\mu_1} }{ \\Sigma_{\\mu_1} } - \\nu \\frac{ \\varepsilon_{\\mu_2} }{ \\Sigma_{\\mu_2} } - \\frac{ \\partial g(\\vec{\\mu}, \\nu) }{ \\partial \\mu_0 } \\frac{ \\varepsilon_{s_1} }{ \\Sigma_{s_1} }\\\\\n",
    "\\frac{ \\partial F }{ \\partial \\mu_1 } &= -\\frac{ \\varepsilon_{\\mu_0} }{ \\Sigma_{\\mu_0} } \\\\\n",
    "\\frac{ \\partial F }{ \\partial \\mu_2 } &= \\frac{ \\varepsilon_{\\mu_2} }{ \\Sigma_{\\mu_2} } - \\frac{ \\varepsilon_{s_0} }{ \\Sigma_{s_0} } - \\frac{ \\partial g(\\vec{\\mu}, \\nu) }{ \\partial \\mu_2 } \\frac{ \\varepsilon_{s_1} }{ \\Sigma_{s_1} }\\\\\n",
    "\\frac{ \\partial F }{ \\partial \\dot{\\mu}_0 } &= \\frac{ \\varepsilon_{\\mu_0} }{ \\Sigma_{\\mu_0} }\\\\\n",
    "\\frac{ \\partial F }{ \\partial \\dot{\\mu}_1 } &= \\frac{ \\varepsilon_{\\mu_1} }{ \\Sigma_{\\mu_1} }\\\\\n",
    "\\frac{ \\partial F }{ \\partial \\dot{\\mu}_2 } &= \\frac{ \\varepsilon_{\\mu_2} }{ \\Sigma_{\\mu_2} }\n",
    "\\end{align}\n",
    "$$\n",
    "## Internal variables dynamics\n",
    "$$\n",
    "\\left[ \\begin{matrix} \\mu_0(t+dt) \\\\ \\mu_1(t+dt) \\\\ \\mu_2(t+dt) \\end{matrix} \\right] =\n",
    "\\left[ \\begin{matrix} \\mu_0(t) + dt \\, (\\dot{\\mu}_0(t) - \\eta \\frac{ \\partial F }{ \\partial \\mu_0 }) \\\\\n",
    "\t\t\t\t\t  \\mu_1(t) + dt \\, (\\dot{\\mu}_1(t) - \\eta \\frac{ \\partial F }{ \\partial \\mu_1 }) \\\\\n",
    "\t\t\t\t\t  \\mu_2(t) + dt \\, (\\dot{\\mu}_2(t) - \\eta \\frac{ \\partial F }{ \\partial \\mu_2 })\n",
    "\\end{matrix} \\right]\n",
    "$$\n",
    "$$\n",
    "\\left[ \\begin{matrix} \\dot{\\mu}_0(t+dt) \\\\ \\dot{\\mu}_1(t+dt) \\\\ \\dot{\\mu}_2(t+dt) \\end{matrix} \\right] =\n",
    "\\left[ \\begin{matrix} \\dot{\\mu}_0(t) - dt \\, \\eta_d \\frac{ \\partial F }{ \\partial \\dot{\\mu}_0 } \\\\\n",
    "\t\t\t\t\t  \\dot{\\mu}_1(t) - dt \\, \\eta_d \\frac{ \\partial F }{ \\partial \\dot{\\mu}_1 } \\\\\n",
    "\t\t\t\t\t  \\dot{\\mu}_2(t) - dt \\, \\eta_d \\frac{ \\partial F }{ \\partial \\dot{\\mu}_2 }\n",
    "\\end{matrix} \\right]\n",
    "$$\n",
    "with $\\eta$ and $\\eta_d$ gradient descent parameters respectively of $\\vec{\\mu}$ and $\\dot{\\vec{\\mu}}$\n",
    "## Action\n",
    "the agent modifies a certain variable of the GP (in our case the alpha parameter) by a quantity given by\n",
    "$$\n",
    "a = -dt \\eta_a \\left( \\frac{ \\partial F }{ \\partial s_0 }\\frac{ \\partial s_0 }{ \\partial \\alpha  } + \\frac{ \\partial F }{ \\partial s_1 }\\frac{ \\partial s_1 }{ \\partial \\alpha  } \\right)\n",
    "      = -dt \\eta_a \\left( \\frac{ \\varepsilon_{s_0} }{ \\Sigma_{s_0} }\\frac{ \\partial s_0 }{ \\partial \\alpha  } + \\frac{ \\varepsilon_{s_1} }{ \\Sigma_{s_1} }\\frac{ \\partial s_1 }{ \\partial \\alpha  } \\right)\n",
    "$$\n",
    "with\n",
    "$$\n",
    "\\begin{align}\n",
    "\\frac{ \\partial s_0 }{ \\partial \\alpha } &= \\frac{ \\cos (\\omega t) + \\omega \\sin (\\omega t) }{ \\omega^2 + 1 } = \\frac{ x_0 - x_1}{ \\omega^2 + 1 }  \\approx ? \\frac{ \\mu_0 - \\mu_1 }{ \\omega^2 + 1 }\\\\\n",
    "\\frac{ \\partial s_1 }{ \\partial \\alpha } &= ? = -10 \\, x_0 \\, \\text{sech}\\left(10 (\\alpha x_0 - x_2)\\right) \\, \\text{tanh}\\left(10 (\\alpha x_0 - x_2)\\right) \\, \\left( \\frac{ 1 }{ 2 }\\text{tanh}(10 x_2) + \\frac{ 1 }{ 2 } \\right) \\approx ? -10 \\, \\mu_0 \\, \\text{sech}\\left(10 (\\alpha \\mu_0 - \\mu_2)\\right) \\, \\text{tanh}\\left(10 (\\alpha \\mu_0 - \\mu_2)\\right) \\, \\left( \\frac{ 1 }{ 2 }\\text{tanh}(10 \\mu_2) + \\frac{ 1 }{ 2 } \\right)\n",
    "\\end{align}\n",
    "$$\n",
    "## Learning of the $\\nu$ parameter\n",
    "$$\n",
    "\\nu(t+dt) = \\nu (t) - dt \\eta_{\\nu} \\frac{ \\partial F }{ \\partial \\nu }\n",
    "$$\n",
    "with\n",
    "$$\n",
    "\\frac{ \\partial F }{ \\partial \\nu } = - \\mu_0 \\frac{ \\varepsilon_{\\mu_2} }{ \\Sigma_{\\mu_2} } - \\frac{ \\varepsilon_{s_1} }{ \\Sigma_{s_1} }\\frac{ \\partial g(\\vec{\\mu}, \\nu) }{ \\partial \\nu  } =\n",
    "  - \\mu_0 \\frac{ \\varepsilon_{\\mu_2} }{ \\Sigma_{\\mu_2} } - \\frac{ \\varepsilon_{s_1} }{ \\Sigma_{s_1} } \\left[ -10 \\, \\mu_0 \\, \\text{sech}\\left(10 (\\nu \\mu_0 - \\mu_2)\\right) \\, \\text{tanh}\\left(10 (\\nu \\mu_0 - \\mu_2)\\right) \\, \\left( \\frac{ 1 }{ 2 }\\text{tanh}(10 \\mu_2) + \\frac{ 1 }{ 2 } \\right) \\right]\n",
    "$$"
   ]
  },
  {
   "cell_type": "code",
   "execution_count": null,
   "metadata": {
    "jupyter": {
     "outputs_hidden": false,
     "source_hidden": false
    },
    "nteract": {
     "transient": {
      "deleting": false
     }
    }
   },
   "outputs": [],
   "source": [
    "\n",
    "#Generative model class\n",
    "class GM:\n",
    "\n",
    "    def __init__(self, dt, eta=0.1, eta_d=0.1, eta_a=1, eta_nu=1, omega2_GM=0.5, nu=1):\n",
    "\n",
    "        # Harmonic oscillator angular frequency\n",
    "        self.omega2 = omega2_GM\n",
    "        # Harmonic oscillator amplitude (no really)\n",
    "        self.nu = nu\n",
    "        # Vector \\vec{\\mu}={\\mu_0, \\mu_1, \\mu_2} initialized with the GP initial conditions\n",
    "        self.mu = np.array([1., 0., self.nu/(self.omega2+1)])\n",
    "        # Vector \\dot{\\vec{\\mu}}={\\dot{\\mu_0}, \\dot{\\mu_1}, \\dot{\\mu_2}} inizialized with the right ones\n",
    "        self.dmu = np.array([0., -self.omega2, (self.nu*self.mu[0]-self.mu[2])])\n",
    "        # Variances (inverse of precisions) of sensory input (the first one proprioceptive and the second one touch)\n",
    "        self.Sigma_s = np.array([0.005, 0.05])\n",
    "        # Internal variables precisions\n",
    "        self.Sigma_mu = np.array([0.01, 0.01, 0.005])\n",
    "        # Action variable (in this case the action is intended as the increment of the variable that the agent is allowed to modified)\n",
    "        self.da = 0\n",
    "        # Size of a simulation step\n",
    "        self.dt = dt\n",
    "        # Gradient descent weights\n",
    "        self.eta = np.array([eta, eta_d, eta_a, eta_nu])\n",
    "\n",
    "    # Touch function\n",
    "    def g_touch(self, x, v, prec=10):\n",
    "        return sech(prec*v)*(0.5*tanh(prec*x)+0.5)\n",
    "\n",
    "    # Derivative of the touch function with respect to \\mu_0\n",
    "    def dg_dmu0(self, x, v, dv_dmu0, prec=10):\n",
    "        return -prec*dv_dmu0*sech(prec*v)*tanh(prec*v)*(0.5 * tanh(prec*x) + 0.5)\n",
    "\n",
    "    # Derivative of the touch function with respect to \\mu_2\n",
    "    def dg_dmu2(self, x, v, prec=10, dx_dmu2=1, dv_dmu2=-1):\n",
    "        return -prec*dv_dmu2*sech(prec*v)*tanh(prec*v)*(0.5 * tanh(prec*x) + 0.5) + sech(prec*v)*5*dx_dmu2*(sech(prec*x))**2\n",
    "\n",
    "    # Function that implement the update of internal variables.\n",
    "    def update(self, sensory_states):\n",
    "        # sensory_states argument (two dimensional array) come from GP and store proprioceptive\n",
    "        # and somatosensory perception\n",
    "        # Returns action increment\n",
    "\n",
    "        self.s = sensory_states\n",
    "        eta, eta_d, eta_a, eta_nu = (np.array([0.8*self.eta[0], 0.8*self.eta[0], self.eta[0]]), \\\n",
    "                                     np.array([1.5*self.eta[1], 1.5*self.eta[1], self.eta[1]]), \\\n",
    "                                     self.eta[2], \\\n",
    "                                     self.eta[3])\n",
    "        self.PE_mu = np.array([\n",
    "            self.dmu[0]-self.mu[1],\n",
    "            self.dmu[1]+self.omega2*self.mu[0],\n",
    "            self.dmu[2]-(self.nu*self.mu[0]-self.mu[2])\n",
    "        ])\n",
    "        self.PE_s = np.array([\n",
    "            self.s[0]-self.mu[2],\n",
    "            self.s[1]-self.g_touch(x=self.mu[2], v=self.dmu[2])  # v=self.nu*self.mu[0]-self.mu[2] or v=self.dmu[2]?\n",
    "        ])\n",
    "\n",
    "        self.dF_dmu = np.array([\n",
    "            (self.omega2*self.PE_mu[1]/self.Sigma_mu[1] - self.nu*self.PE_mu[2]/self.Sigma_mu[2] \\\n",
    "                - self.dg_dmu0(x=self.mu[2], v=self.dmu[2], dv_dmu0=self.nu)*self.PE_s[1]/self.Sigma_s[1]),\n",
    "            (-self.PE_mu[0]/self.Sigma_mu[0]),\n",
    "            self.PE_mu[2]/self.Sigma_mu[2] - self.PE_s[0]/self.Sigma_s[0] \\\n",
    "                - self.dg_dmu2(x=self.mu[2], v=self.dmu[2])*self.PE_s[1]/self.Sigma_s[1]\n",
    "        ])\n",
    "\n",
    "        self.dF_d_dmu = np.array([\n",
    "            self.PE_mu[0]/self.Sigma_mu[0],\n",
    "            self.PE_mu[1]/self.Sigma_mu[1],\n",
    "            self.PE_mu[2]/self.Sigma_mu[2]\n",
    "        ])\n",
    "        # Action update\n",
    "        self.dF_da = np.array([ self.mu[0]*self.PE_s[0]/self.Sigma_s[0] , self.mu[0] * self.PE_s[1]/self.Sigma_s[1] ])\n",
    "        self.da = -self.dt*eta_a*(self.dF_da[1] + 0.001*self.dF_da[0])\n",
    "\n",
    "        # Learning internal parameter nu\n",
    "        self.dF_dnu = np.array([-self.mu[0]*self.PE_mu[2]/self.Sigma_mu[2], -self.dg_dmu0(x=self.mu[0], v=self.dmu[2], dv_dmu0=self.mu[0])* self.PE_s[1]/self.Sigma_s[1] ])\n",
    "        #self.dF_dnu = np.array([-self.mu[0]*self.PE_mu[2]/self.Sigma_mu[2], -self.mu[0]* self.PE_s[1]/self.Sigma_s[1] ])\n",
    "        #self.nu += -self.dt*eta_nu* (self.dF_dnu[0] + self.dF_dnu[1])\n",
    "\n",
    "        # Internal variables update\n",
    "        self.mu += self.dt*(self.dmu - eta*self.dF_dmu)\n",
    "        self.dmu += -self.dt*eta_d*self.dF_d_dmu\n",
    "\n",
    "        #dF_da = (self.mu[0])*self.PE_s[0]/self.Sigma_s[0] + ( self.mu[0] ) * self.PE_s[1]/self.Sigma_s[1]\n",
    "        #self.da = self.dt*eta_a*dF_da\n",
    "\n",
    "\n",
    "        # Efference copy\n",
    "        self.nu += self.da\n",
    "\n",
    "        return self.da\n",
    "\n"
   ]
  },
  {
   "cell_type": "code",
   "execution_count": null,
   "metadata": {
    "jupyter": {
     "outputs_hidden": false,
     "source_hidden": false
    },
    "nteract": {
     "transient": {
      "deleting": false
     }
    }
   },
   "outputs": [],
   "source": [
    "\n",
    "if __name__ == \"__main__\":\n",
    "    dt = 0.005\n",
    "    n_steps = 20000+5000\n",
    "    gp = GP(dt=dt, omega2_GP=0.5, alpha=1)\n",
    "    gm = GM(dt=dt, eta=0.01, eta_d=1., eta_a=0.01, eta_nu=0.01, omega2_GM=0.5, nu=1)\n",
    "\n",
    "    data_GP = []\n",
    "    data_GM = []\n",
    "    a = 0.\n",
    "    for step in np.arange(n_steps):\n",
    "        a = gm.update(gp.s)\n",
    "        gp.update(a)\n",
    "        data_GP.append([gp.x[2], gp.a, gp.s[0], gp.s[1], gp.x[0]])\n",
    "        data_GM.append([gm.mu[2], gm.nu, gm.PE_mu[0], gm.PE_mu[1], gm.PE_mu[2],\n",
    "                        gm.PE_s[0], gm.PE_s[1], gm.dmu[2], gm.mu[0], gm.dF_da[0], gm.dF_da[1] ])\n",
    "    data_GP = np.vstack(data_GP)\n",
    "    data_GM = np.vstack(data_GM)\n",
    "    platform = gp.platform_for_graph()"
   ]
  },
  {
   "cell_type": "code",
   "execution_count": null,
   "metadata": {
    "jupyter": {
     "outputs_hidden": false,
     "source_hidden": false
    },
    "nteract": {
     "transient": {
      "deleting": false
     }
    }
   },
   "outputs": [],
   "source": [
    "plt.figure(figsize=(20, 10))\n",
    "plt.subplot(211)\n",
    "plt.plot(np.arange(0, n_steps*dt, dt), data_GP[:, 0], c=\"red\", lw=2, ls=\"dashed\", label=r\"$x_2$\")\n",
    "#plt.plot(np.arange(0, n_steps*dt, dt), data_GP[:, 4], c=\"blue\", lw=2, 0.1*ls=\"dashed\", label=r\"$x_0$\")\n",
    "plt.plot(np.arange(0, n_steps*dt, dt), data_GP[:, 1], c=\"#aa6666\", lw=4, label=r\"\\alpha\")\n",
    "plt.plot(platform[:,0], platform[:,1], c=\"black\", lw=2, label=\"platform\")\n",
    "#plt.ylim(bottom=-1.8, top=4)\n",
    "plt.legend(bbox_to_anchor=(1.05, 1), loc='upper left', borderaxespad=0.)\n",
    "plt.subplot(212)\n",
    "plt.plot(np.arange(0, n_steps*dt, dt), data_GM[:, 0],\n",
    "         c=\"green\", lw=2, ls=\"dashed\", label=r\"$\\mu_2$\")\n",
    "plt.plot(np.arange(0, n_steps*dt, dt), data_GM[:, 1], c=\"#66aa66\", lw=3, label=r\"\\nu\")\n",
    "#plt.plot(np.arange(0, n_steps*dt, dt), data_GM[:, 8], c=\"blue\", lw=2, ls=\"dashed\", label=r\"$\\mu_0$\")\n",
    "plt.plot(platform[:,0], platform[:,1], c=\"black\", lw=2, label=\"platform\")\n",
    "#plt.ylim(bottom=-1.8, top=4)\n",
    "plt.legend(bbox_to_anchor=(1.05, 1), loc='upper left', borderaxespad=0.)\n",
    "plt.show()\n"
   ]
  },
  {
   "cell_type": "code",
   "execution_count": null,
   "metadata": {
    "jupyter": {
     "outputs_hidden": false,
     "source_hidden": false
    },
    "nteract": {
     "transient": {
      "deleting": false
     }
    }
   },
   "outputs": [],
   "source": [
    "plt.figure(figsize=(20, 10))\n",
    "plt.subplot(211)\n",
    "plt.plot(np.arange(0, n_steps*dt, dt), data_GP[:, 0], c=\"red\", lw=2, ls=\"dashed\", label=r\"$x_2$\")\n",
    "plt.plot(np.arange(0, n_steps*dt, dt), data_GP[:, 4], c=\"blue\", lw=2, ls=\"dashed\", label=r\"$x_0$\")\n",
    "plt.plot(np.arange(0, n_steps*dt, dt), data_GP[:, 1], c=\"#aa6666\", lw=4, label=r\"\\alpha\")\n",
    "plt.plot(platform[:,0], platform[:,1], c=\"black\", lw=2, label=\"platform\")\n",
    "#plt.ylim(bottom=-1.8, top=4)\n",
    "plt.legend(bbox_to_anchor=(1.05, 1), loc='upper left', borderaxespad=0.)\n",
    "plt.subplot(212)\n",
    "plt.plot(np.arange(0, n_steps*dt, dt), data_GM[:, 0],\n",
    "         c=\"green\", lw=2, ls=\"dashed\", label=r\"$\\mu_2$\")\n",
    "plt.plot(np.arange(0, n_steps*dt, dt), data_GM[:, 1], c=\"#66aa66\", lw=3, label=r\"\\nu\")\n",
    "plt.plot(np.arange(0, n_steps*dt, dt), data_GM[:, 8], c=\"blue\", lw=2, ls=\"dashed\", label=r\"$\\mu_0$\")\n",
    "plt.plot(platform[:,0], platform[:,1], c=\"black\", lw=2, label=\"platform\")\n",
    "plt.plot(np.arange(0, n_steps*dt, dt), data_GM[:, 10]*gm.Sigma_s[1], c=\"orange\", label=r\"$\\, \\frac{ d\\varepsilon_{s_1} }{ da }$\")\n",
    "#plt.ylim(bottom=-1.8, top=4)\n",
    "plt.legend(bbox_to_anchor=(1.05, 1), loc='upper left', borderaxespad=0.)\n",
    "plt.show()\n"
   ]
  },
  {
   "cell_type": "code",
   "execution_count": null,
   "metadata": {
    "jupyter": {
     "outputs_hidden": false,
     "source_hidden": false
    },
    "nteract": {
     "transient": {
      "deleting": false
     }
    }
   },
   "outputs": [],
   "source": [
    "plt.figure(figsize=(20, 10))\n",
    "plt.plot(np.arange(0, n_steps*dt, dt), data_GM[:, 9], label=r\"$\\frac{ 1 }{ \\Sigma_{s_0} } \\, \\frac{ d\\varepsilon_{s_0} }{ da }$\")\n",
    "plt.plot(np.arange(0, n_steps*dt, dt), data_GM[:, 10], label=r\"$\\frac{ 1 }{ \\Sigma_{s_1} } \\, \\frac{ d\\varepsilon_{s_1} }{ da }$\")\n",
    "plt.legend(bbox_to_anchor=(1.05, 1), loc='upper left', borderaxespad=0.)"
   ]
  },
  {
   "cell_type": "code",
   "execution_count": null,
   "metadata": {
    "jupyter": {
     "outputs_hidden": false,
     "source_hidden": false
    },
    "nteract": {
     "transient": {
      "deleting": false
     }
    }
   },
   "outputs": [],
   "source": [
    "plt.figure(figsize=(12, 8))\n",
    "plt.subplot(211)\n",
    "plt.plot(np.arange(0, n_steps*dt, dt), data_GP[:, 0], c=\"red\", lw=1, ls=\"dashed\", label=r\"$x_2$\")\n",
    "plt.plot(np.arange(0, n_steps*dt, dt), data_GP[:, 1], c=\"#aa6666\", lw=3, label=r\"\\alpha\")\n",
    "plt.plot(platform[:,0], platform[:,1], c=\"black\", lw=0.5, label=\"platform\")\n",
    "# plt.ylim(bottom=0)\n",
    "plt.legend(bbox_to_anchor=(1.05, 1), loc='upper left', borderaxespad=0.)\n",
    "plt.subplot(212)\n",
    "plt.plot(np.arange(0, n_steps*dt, dt), data_GP[:, 2], label=\"Proprioceptive sensory input\")\n",
    "plt.plot(np.arange(0, n_steps*dt, dt), data_GP[:, 3], label=\"Touch sensory input\")\n",
    "#plt.plot(platform[:,0], platform[:,1], c=\"black\", lw=0.5, label=\"platform\")\n",
    "# plt.ylim(bottom=0)\n",
    "plt.legend(bbox_to_anchor=(1.05, 1), loc='upper left', borderaxespad=0.)\n",
    "plt.show()\n"
   ]
  },
  {
   "cell_type": "code",
   "execution_count": null,
   "metadata": {
    "jupyter": {
     "outputs_hidden": false,
     "source_hidden": false
    },
    "nteract": {
     "transient": {
      "deleting": false
     }
    }
   },
   "outputs": [],
   "source": [
    "plt.figure(figsize=(12, 8))\n",
    "plt.subplot(311)\n",
    "plt.plot(np.arange(0, n_steps*dt, dt), data_GM[:, 2], label=r\"$PE_{\\mu 0}$\")\n",
    "plt.legend(bbox_to_anchor=(1.05, 1), loc='upper left', borderaxespad=0.)\n",
    "plt.subplot(312)\n",
    "plt.plot(np.arange(0, n_steps*dt, dt), data_GM[:, 3], label=r\"$PE_{\\mu 1}$\")\n",
    "plt.legend(bbox_to_anchor=(1.05, 1), loc='upper left', borderaxespad=0.)\n",
    "plt.subplot(313)\n",
    "plt.plot(np.arange(0, n_steps*dt, dt), data_GM[:, 4], label=r\"$PE_{\\mu 2}$\")\n",
    "plt.legend(bbox_to_anchor=(1.05, 1), loc='upper left', borderaxespad=0.)\n",
    "plt.show()"
   ]
  },
  {
   "cell_type": "code",
   "execution_count": null,
   "metadata": {
    "jupyter": {
     "outputs_hidden": false,
     "source_hidden": false
    },
    "nteract": {
     "transient": {
      "deleting": false
     }
    }
   },
   "outputs": [],
   "source": [
    "plt.figure(figsize=(12, 8))\n",
    "plt.subplot(211)\n",
    "plt.plot(np.arange(0, n_steps*dt, dt), data_GM[:, 5], label=r\"$PE_{s 0}$\")\n",
    "plt.legend(bbox_to_anchor=(1.05, 1), loc='upper left', borderaxespad=0.)\n",
    "plt.subplot(212)\n",
    "plt.plot(np.arange(0, n_steps*dt, dt), data_GM[:, 6], label=r\"$PE_{s 1}$\")\n",
    "plt.legend(bbox_to_anchor=(1.05, 1), loc='upper left', borderaxespad=0.)\n",
    "plt.show()"
   ]
  },
  {
   "cell_type": "code",
   "execution_count": null,
   "metadata": {
    "jupyter": {
     "outputs_hidden": false,
     "source_hidden": false
    },
    "nteract": {
     "transient": {
      "deleting": false
     }
    }
   },
   "outputs": [],
   "source": [
    "\n"
   ]
  },
  {
   "cell_type": "code",
   "execution_count": null,
   "metadata": {
    "jupyter": {
     "outputs_hidden": false,
     "source_hidden": false
    },
    "nteract": {
     "transient": {
      "deleting": false
     }
    }
   },
   "outputs": [],
   "source": [
    "gm = GM(dt=0.005)\n",
    "omega = np.sqrt(gm.omega2)\n",
    "nu = 1  # gm.nu\n",
    "time = np.arange(0, 30, 0.001)\n",
    "x0 = np.cos(omega*time)\n",
    "x1 = -omega*np.sin(omega*time)\n",
    "x2 = nu*(np.cos(omega*time)+omega*np.sin(omega*time))/(omega**2+1)\n",
    "dx2 = nu*(-np.sin(omega*time)+omega**2*np.cos(omega*time))/(omega**2+1)\n",
    "touch = gm.g_touch(x=x2, v=nu*x0-x2)\n",
    "dtouch_dx0 = gm.dg_dmu0(x=x2, v=dx2, dv_dmu0=nu)\n",
    "dtouch_dx2 = gm.dg_dmu2(x=x2, v=dx2, dv_dmu2=-1)\n",
    "\n",
    "plt.figure(figsize=(12, 8))\n",
    "plt.subplot(211)\n",
    "plt.plot(time, x0, label=r\"$x_0$\", c='#1f77b4')\n",
    "plt.plot(time, x2, label=r\"$x_2$\", c='#ff7f0e')\n",
    "#plt.plot(time, touch, label=r\"touch function $g$\", c='#9467bd')\n",
    "plt.legend(bbox_to_anchor=(1.05, 1), loc='upper left', borderaxespad=0.)\n",
    "plt.subplot(212)\n",
    "plt.plot(time, x1, label=r\"$x_1$\", c='#2ca02c')\n",
    "plt.plot(time, dx2, label=r\"$\\frac{dx_2}{dt}$\", c='#d62728')\n",
    "plt.legend(bbox_to_anchor=(1.05, 1), loc='upper left', borderaxespad=0.)\n",
    "plt.show()\n"
   ]
  },
  {
   "cell_type": "code",
   "execution_count": null,
   "metadata": {
    "jupyter": {
     "outputs_hidden": false,
     "source_hidden": false
    },
    "nteract": {
     "transient": {
      "deleting": false
     }
    }
   },
   "outputs": [],
   "source": [
    "plt.figure(figsize=(12, 8))\n",
    "plt.plot(time, x2, label=r\"$x_2$\", c='#ff7f0e')\n",
    "plt.plot(time, touch, label=r\"touch function $g$\", c='#9467bd')\n",
    "plt.legend(bbox_to_anchor=(1.05, 1), loc='upper left', borderaxespad=0.)\n",
    "plt.plot(time, x0, label=r\"$x_0$\", c='#1f77b4')\n",
    "plt.plot(time, dtouch_dx0, label=r\"$\\frac{dg}{dx_0}$\", c='#8c564b')\n",
    "plt.plot(time, 2*dtouch_dx2, label=r\"$\\frac{dg}{dx_2}$\", c='#7f7f7f')\n",
    "# plt.plot(time, dtouch_dx2, label=r\"$\\frac{dg}{dx_2}$\", c='#7f7f7f')\n",
    "plt.legend(bbox_to_anchor=(1.05, 1), loc='upper left', borderaxespad=0.)\n",
    "plt.plot(time, x2, label=r\"$x_2$\", c='#ff7f0e')\n",
    "plt.legend(bbox_to_anchor=(1.05, 1), loc='upper left', borderaxespad=0.)\n",
    "plt.xlim([0,4])\n",
    "plt.show()"
   ]
  }
 ],
 "metadata": {
  "kernelspec": {
   "display_name": "Python 3",
   "language": "python",
   "name": "python3"
  },
  "language_info": {
   "codemirror_mode": {
    "name": "ipython",
    "version": 3
   },
   "file_extension": ".py",
   "mimetype": "text/x-python",
   "name": "python",
   "nbconvert_exporter": "python",
   "pygments_lexer": "ipython3",
   "version": "3.9.1"
  }
 },
 "nbformat": 4,
 "nbformat_minor": 1
}
